{
 "cells": [
  {
   "cell_type": "code",
   "execution_count": null,
   "metadata": {},
   "outputs": [],
   "source": [
    "import pathlib\n",
    "import json\n",
    "import helpers\n",
    "from helpers import ai, apple\n",
    "from bs4 import BeautifulSoup\n",
    "\n",
    "from openai import OpenAI"
   ]
  },
  {
   "cell_type": "code",
   "execution_count": null,
   "metadata": {},
   "outputs": [],
   "source": [
    "NBS_DIR = pathlib.Path().resolve().parent\n",
    "BASE_DIR = NBS_DIR\n",
    "DATASET_DIR = BASE_DIR / \"dataset\""
   ]
  },
  {
   "cell_type": "code",
   "execution_count": null,
   "metadata": {},
   "outputs": [],
   "source": [
    "for path in list(DATASET_DIR.glob(\"**/**/pred.json\"))[:10]:\n",
    "    post_dir = path.parent\n",
    "    print(post_dir)\n",
    "    post_id = post_dir.name\n",
    "    podcast_dir = post_dir / \"podcasts\"\n",
    "    podcast_dir.mkdir(parents=True, exist_ok=True)\n",
    "    pred_data = json.loads(path.read_text())\n",
    "    mp3s = []\n",
    "    if isinstance(pred_data, dict):\n",
    "        try:\n",
    "            keywords = pred_data['keywords']\n",
    "        except:\n",
    "            keywords = []\n",
    "        lookup_list = []\n",
    "        for keyword in keywords:\n",
    "            val = keyword.get('value')\n",
    "            rank = int(keyword.get('rank'))\n",
    "            if rank == 1: # top ranked keyword\n",
    "                lookup_list.append(val)\n",
    "        for keyword in lookup_list:\n",
    "            if not keyword:\n",
    "                continue\n",
    "            print('Searching for podcasts', keyword)\n",
    "            podcast_results = apple.perform_search(search_term=keyword)\n",
    "            for podcast in podcast_results:\n",
    "                print(\"Saving details for\", podcast.get('trackName'))\n",
    "                track_id = podcast.get('trackId')\n",
    "                track_output_dir = podcast_dir / f'{track_id}'\n",
    "                track_output_dir.mkdir(parents=True, exist_ok=True)\n",
    "                track_output_data_path = track_output_dir / \"podcast.json\"\n",
    "                track_output_data_path.write_text(json.dumps(podcast, indent=4))"
   ]
  }
 ],
 "metadata": {
  "kernelspec": {
   "display_name": "venv",
   "language": "python",
   "name": "python3"
  },
  "language_info": {
   "codemirror_mode": {
    "name": "ipython",
    "version": 3
   },
   "file_extension": ".py",
   "mimetype": "text/x-python",
   "name": "python",
   "nbconvert_exporter": "python",
   "pygments_lexer": "ipython3",
   "version": "3.12.2"
  }
 },
 "nbformat": 4,
 "nbformat_minor": 2
}
