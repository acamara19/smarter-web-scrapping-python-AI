{
 "cells": [
  {
   "cell_type": "code",
   "execution_count": null,
   "metadata": {},
   "outputs": [],
   "source": [
    "import pathlib\n",
    "import json\n",
    "import helpers\n",
    "from helpers import ai, apple\n",
    "from bs4 import BeautifulSoup\n",
    "\n",
    "import requests\n",
    "import shutil\n",
    "\n",
    "from urllib.parse import unquote"
   ]
  },
  {
   "cell_type": "code",
   "execution_count": null,
   "metadata": {},
   "outputs": [],
   "source": [
    "NBS_DIR = pathlib.Path().resolve().parent\n",
    "BASE_DIR = NBS_DIR\n",
    "DATASET_DIR = BASE_DIR / \"dataset\""
   ]
  },
  {
   "cell_type": "code",
   "execution_count": null,
   "metadata": {},
   "outputs": [],
   "source": [
    "def clean_filename(filename):\n",
    "    \"\"\"\n",
    "    Remove any query parameters \n",
    "    that may be included in the file name\n",
    "    \"\"\"\n",
    "    if not isinstance(filename, str):\n",
    "        return None\n",
    "    if '?' in filename:\n",
    "        cleaned_filename = filename.split('?', 1)[0]\n",
    "    else:\n",
    "        cleaned_filename = filename\n",
    "    return cleaned_filename\n",
    "\n",
    "def download_file(url, destination_path=\".\"):\n",
    "    fname = pathlib.Path(url).name \n",
    "    fname = clean_filename(fname)\n",
    "    suffix = pathlib.Path(fname).suffix\n",
    "    if suffix == \".mp3\":\n",
    "        fname = \"audio.mp3\"\n",
    "    elif suffix == \".mp4\":\n",
    "        fname = \"video.mp4\"\n",
    "    else:\n",
    "        return \n",
    "    outpath = pathlib.Path(destination_path).resolve() / fname\n",
    "    with requests.get(url,  stream=True) as r:\n",
    "        with open(str(outpath), 'wb') as f:\n",
    "            shutil.copyfileobj(r.raw, f)\n",
    "    return fname"
   ]
  },
  {
   "cell_type": "code",
   "execution_count": null,
   "metadata": {},
   "outputs": [],
   "source": [
    "def convert_encoded_url(encoded_url):\n",
    "    \"\"\"\n",
    "    Decode any encoded URL strings for\n",
    "    episode downloading\n",
    "    \"\"\"\n",
    "    decoded_url = unquote(encoded_url)\n",
    "    return decoded_url"
   ]
  },
  {
   "cell_type": "code",
   "execution_count": null,
   "metadata": {},
   "outputs": [],
   "source": [
    "for path in list(DATASET_DIR.glob(\"**/**/*.mp3\"))[:5]:\n",
    "    path.unlink()"
   ]
  },
  {
   "cell_type": "code",
   "execution_count": null,
   "metadata": {},
   "outputs": [],
   "source": [
    "for path in list(DATASET_DIR.glob(\"**/**/*.mp4\"))[:5]:\n",
    "    path.unlink()"
   ]
  },
  {
   "cell_type": "code",
   "execution_count": null,
   "metadata": {},
   "outputs": [],
   "source": [
    "for path in list(DATASET_DIR.glob(\"**/**/podcast.json\"))[:5]:\n",
    "    podcast_detail_dir = path.parent\n",
    "    podcasts_dir = podcast_detail_dir.parent\n",
    "    post_dir = podcasts_dir.parent\n",
    "    post_id = post_dir.name\n",
    "    podcast_data = json.loads(path.read_text())\n",
    "    podcast_id = podcast_data.get('trackId')\n",
    "    episode_url = podcast_data.get('episodeUrl')\n",
    "    # print(episode_url, podcast_detail_dir)\n",
    "    episode_url = convert_encoded_url(episode_url)\n",
    "    print(download_file(episode_url, destination_path=podcast_detail_dir))\n",
    "    # print(podcast_detail_dir)\n",
    "    #"
   ]
  }
 ],
 "metadata": {
  "kernelspec": {
   "display_name": "venv",
   "language": "python",
   "name": "python3"
  },
  "language_info": {
   "codemirror_mode": {
    "name": "ipython",
    "version": 3
   },
   "file_extension": ".py",
   "mimetype": "text/x-python",
   "name": "python",
   "nbconvert_exporter": "python",
   "pygments_lexer": "ipython3",
   "version": "3.12.2"
  }
 },
 "nbformat": 4,
 "nbformat_minor": 2
}
