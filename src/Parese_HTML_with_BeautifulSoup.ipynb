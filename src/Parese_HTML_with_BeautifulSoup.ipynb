{
 "cells": [
  {
   "cell_type": "code",
   "execution_count": null,
   "id": "e96603c3-9ae5-4ece-869e-489a9d1226df",
   "metadata": {},
   "outputs": [],
   "source": [
    "import helpers\n",
    "from selenium.webdriver import Remote, ChromeOptions\n",
    "\n",
    "options = ChromeOptions()\n",
    "\n",
    "url = \"https://news.ycombinator.com/news\"\n",
    "\n",
    "sbr_connection = helpers.get_sbr_connection()\n",
    "\n",
    "with Remote(sbr_connection, options=options) as driver:\n",
    "    driver.get(url)\n",
    "    html_source = driver.page_source\n",
    "\n",
    "# html_source"
   ]
  },
  {
   "cell_type": "code",
   "execution_count": null,
   "id": "ff0555b3-0b24-4abd-9145-a9d23ac67620",
   "metadata": {},
   "outputs": [],
   "source": [
    "# html_source"
   ]
  },
  {
   "cell_type": "code",
   "execution_count": null,
   "id": "eef3b241-ec3e-4e99-ab82-777a70a81036",
   "metadata": {},
   "outputs": [],
   "source": [
    "detail_pattern = \"https://news.ycombinator.com/item?id={item_id}\""
   ]
  },
  {
   "cell_type": "code",
   "execution_count": null,
   "id": "acbf4862-bf24-40f8-ad9c-d1a45de51e64",
   "metadata": {},
   "outputs": [],
   "source": [
    "from bs4 import BeautifulSoup"
   ]
  },
  {
   "cell_type": "code",
   "execution_count": null,
   "id": "e1a514b9-4f9d-4d0d-9363-d1e6dfd188b6",
   "metadata": {},
   "outputs": [],
   "source": [
    "soup = BeautifulSoup(html_source, 'html.parser')"
   ]
  },
  {
   "cell_type": "code",
   "execution_count": null,
   "id": "7bafa5ec-9bd0-46d7-b600-90dd8c199142",
   "metadata": {},
   "outputs": [],
   "source": [
    "soup.find(\"body\").get_text()"
   ]
  },
  {
   "cell_type": "code",
   "execution_count": null,
   "id": "51f30f0a-0b90-4558-bfd8-c5f0b9ca25e7",
   "metadata": {},
   "outputs": [],
   "source": [
    "links = soup.find_all(\"a\")"
   ]
  },
  {
   "cell_type": "code",
   "execution_count": null,
   "id": "f0da1ce5-8f45-49f3-953e-ef7595c593a4",
   "metadata": {},
   "outputs": [],
   "source": [
    "post_ids = []\n",
    "\n",
    "for link in links:\n",
    "    href = link.attrs.get(\"href\")\n",
    "    link_id = None\n",
    "    if href.startswith(\"item?id=\"):\n",
    "        link_id = href.replace(\"item?id=\", \"\")\n",
    "    if link_id is not None:\n",
    "        post_ids.append(link_id)"
   ]
  },
  {
   "cell_type": "code",
   "execution_count": null,
   "id": "e58819f6-00fb-477d-940e-77a20119a7bd",
   "metadata": {},
   "outputs": [],
   "source": [
    "post_ids"
   ]
  },
  {
   "cell_type": "code",
   "execution_count": null,
   "id": "24b9bf95-37a0-48d3-9365-8d9d1b46dcf2",
   "metadata": {},
   "outputs": [],
   "source": [
    "detail_pattern = \"https://news.ycombinator.com/item?id={item_id}\"\n",
    "detail_links = [detail_pattern.format(item_id=x) for x in post_ids]\n",
    "print(detail_links)"
   ]
  }
 ],
 "metadata": {
  "kernelspec": {
   "display_name": "Python 3 (ipykernel)",
   "language": "python",
   "name": "python3"
  },
  "language_info": {
   "codemirror_mode": {
    "name": "ipython",
    "version": 3
   },
   "file_extension": ".py",
   "mimetype": "text/x-python",
   "name": "python",
   "nbconvert_exporter": "python",
   "pygments_lexer": "ipython3",
   "version": "3.12.2"
  }
 },
 "nbformat": 4,
 "nbformat_minor": 5
}
