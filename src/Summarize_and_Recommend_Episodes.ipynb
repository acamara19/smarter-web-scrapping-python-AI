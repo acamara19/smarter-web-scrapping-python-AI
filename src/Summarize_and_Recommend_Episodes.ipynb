{
 "cells": [
  {
   "cell_type": "code",
   "execution_count": null,
   "metadata": {},
   "outputs": [],
   "source": [
    "import pathlib\n",
    "import json\n",
    "from helpers import ai\n",
    "from pprint import pprint"
   ]
  },
  {
   "cell_type": "code",
   "execution_count": null,
   "metadata": {},
   "outputs": [],
   "source": [
    "NBS_DIR = pathlib.Path().resolve().parent\n",
    "BASE_DIR = NBS_DIR\n",
    "DATASET_DIR = BASE_DIR / \"dataset\""
   ]
  },
  {
   "cell_type": "code",
   "execution_count": null,
   "metadata": {},
   "outputs": [],
   "source": [
    "for path in list(DATASET_DIR.glob(\"**/**/detail.json\")):\n",
    "    post_detail_dir = path.parent\n",
    "    post_detail = json.loads(path.read_text())\n",
    "    podcasts_dir = post_detail_dir / \"podcasts\"\n",
    "    recommended_podcasts_dir = post_detail_dir / \"recommended\"\n",
    "    for transcript_path in podcasts_dir.glob(\"**/**/transcript.txt\"):\n",
    "        podcast_detail_dir = transcript_path.parent\n",
    "        podcast_detail_path = podcast_detail_dir / 'podcast.json'\n",
    "        if not podcast_detail_path.exists():\n",
    "            continue\n",
    "        podcast_detail = json.loads(podcast_detail_path.read_text())\n",
    "        podcast_title = podcast_detail.get('trackName')\n",
    "        podcast_id = podcast_detail.get('trackId')\n",
    "        podcast_description = podcast_detail.get('description')\n",
    "        apple_podcast_track_url = podcast_detail.get('trackViewUrl')\n",
    "        episode_url = podcast_detail.get('episodeUrl')\n",
    "        content = transcript_path.read_text()\n",
    "        try:\n",
    "            result_data, is_json = ai.extract_summary_and_keywords(content=content)\n",
    "        except:\n",
    "            result_data = {'summary': None, 'keywords': []}\n",
    "        recommendation = {\n",
    "            'title': podcast_title,\n",
    "            'description': podcast_description,\n",
    "            'links': {\n",
    "                'applePodcasts': apple_podcast_track_url,\n",
    "                'direct': episode_url,\n",
    "            },\n",
    "            'ai_summary': result_data.get('summary'),\n",
    "            'ai_keywords': result_data.get('keywords'),\n",
    "        }\n",
    "        print(recommendation)\n",
    "        recommended_podcasts_dir.mkdir(exist_ok=True)\n",
    "        outpath = recommended_podcasts_dir / f\"{podcast_id}.json\"\n",
    "        outpath.write_text(json.dumps(recommendation))"
   ]
  },
  {
   "cell_type": "code",
   "execution_count": null,
   "metadata": {},
   "outputs": [],
   "source": [
    "for path in list(DATASET_DIR.glob(\"**/recommended/**\")):\n",
    "    print(path)\n",
    "    for rec_path in path.glob(\"*.json\"):\n",
    "        pprint(json.loads(rec_path.read_text()))"
   ]
  }
 ],
 "metadata": {
  "kernelspec": {
   "display_name": "venv",
   "language": "python",
   "name": "python3"
  },
  "language_info": {
   "codemirror_mode": {
    "name": "ipython",
    "version": 3
   },
   "file_extension": ".py",
   "mimetype": "text/x-python",
   "name": "python",
   "nbconvert_exporter": "python",
   "pygments_lexer": "ipython3",
   "version": "3.12.2"
  }
 },
 "nbformat": 4,
 "nbformat_minor": 2
}
