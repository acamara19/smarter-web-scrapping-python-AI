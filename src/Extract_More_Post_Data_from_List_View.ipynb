{
 "cells": [
  {
   "cell_type": "code",
   "execution_count": null,
   "metadata": {},
   "outputs": [],
   "source": [
    "import helpers\n",
    "from selenium.webdriver import Remote, ChromeOptions\n",
    "from bs4 import BeautifulSoup\n",
    "\n",
    "\n",
    "options = ChromeOptions()\n",
    "url = \"https://news.ycombinator.com/news\"\n",
    "sbr_connection = helpers.get_sbr_connection()\n",
    "html_source = \"\"\n",
    "with Remote(sbr_connection, options=options) as driver:\n",
    "    driver.get(url) # HTTP GET\n",
    "    html_source = driver.page_source\n",
    "    soup = BeautifulSoup(html_source, 'html.parser')\n",
    "    links = soup.find_all(\"a\")\n",
    "    post_ids = []\n",
    "    for link in links:\n",
    "        # print(link.attrs)\n",
    "        href = link.attrs.get(\"href\")\n",
    "        link_id = None\n",
    "        if href.startswith(\"item?id=\"):\n",
    "            link_id = href.replace(\"item?id=\", \"\")\n",
    "        if link_id is not None:\n",
    "            # print(href, link_id)\n",
    "            post_ids.append(link_id)\n",
    "        "
   ]
  },
  {
   "cell_type": "code",
   "execution_count": null,
   "metadata": {},
   "outputs": [],
   "source": [
    "detail_pattern = \"https://news.ycombinator.com/item?id={item_id}\"\n",
    "detail_links = [detail_pattern.format(item_id=x) for x in post_ids]"
   ]
  },
  {
   "cell_type": "code",
   "execution_count": null,
   "metadata": {},
   "outputs": [],
   "source": [
    "# detail_links"
   ]
  },
  {
   "cell_type": "code",
   "execution_count": null,
   "metadata": {},
   "outputs": [],
   "source": [
    "rows = soup.find_all('tr', class_=\"athing\")\n",
    "for tr in rows:\n",
    "    print(tr.attrs)\n",
    "    next_tr = tr.find_next('tr')\n",
    "    print(next_tr.get_text())"
   ]
  }
 ],
 "metadata": {
  "kernelspec": {
   "display_name": "Python 3 (ipykernel)",
   "language": "python",
   "name": "python3"
  },
  "language_info": {
   "codemirror_mode": {
    "name": "ipython",
    "version": 3
   },
   "file_extension": ".py",
   "mimetype": "text/x-python",
   "name": "python",
   "nbconvert_exporter": "python",
   "pygments_lexer": "ipython3",
   "version": "3.12.2"
  }
 },
 "nbformat": 4,
 "nbformat_minor": 4
}
