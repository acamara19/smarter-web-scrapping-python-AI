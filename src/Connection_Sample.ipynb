{
 "cells": [
  {
   "cell_type": "code",
   "execution_count": null,
   "id": "2b87b218-e38c-4e58-bc68-5e56d6101368",
   "metadata": {},
   "outputs": [],
   "source": [
    "from selenium import webdriver\n",
    "from selenium.webdriver import ChromeOptions\n",
    "import time"
   ]
  },
  {
   "cell_type": "code",
   "execution_count": null,
   "id": "185bfe84-a476-4d62-8729-6788efe7b15c",
   "metadata": {},
   "outputs": [],
   "source": [
    "url = \"https://news.ycombinator.com/news\""
   ]
  },
  {
   "cell_type": "code",
   "execution_count": null,
   "id": "70805c16-72c0-4f28-a74a-ac3d06910ddb",
   "metadata": {},
   "outputs": [],
   "source": [
    "# options = ChromeOptions()\n",
    "# #options.add_argument('--headless=new')\n",
    "\n",
    "# with webdriver.Chrome(options=options) as driver:\n",
    "#     driver.get(url) # HTTP Request\n",
    "#     time.sleep(2)\n",
    "#     print(driver.page_source)"
   ]
  },
  {
   "cell_type": "code",
   "execution_count": null,
   "id": "02d948ff-aec3-441c-9a34-2137871d594b",
   "metadata": {},
   "outputs": [],
   "source": [
    "import helpers"
   ]
  },
  {
   "cell_type": "code",
   "execution_count": null,
   "id": "cbf08abb-86d9-46e5-8b56-a7cb3e34d13d",
   "metadata": {},
   "outputs": [],
   "source": [
    "# from selenium.webdriver import Remote, ChromeOptions\n",
    "# from selenium.webdriver.chromium.remote_connection import ChromiumRemoteConnection\n",
    "\n",
    "# SBR_WEBDRIVER = helpers.config('SBR_WEBDRIVER', default=None)\n",
    "\n",
    "# options = ChromeOptions()\n",
    "\n",
    "# sbr_connection = ChromiumRemoteConnection(SBR_WEBDRIVER, 'goog', 'chrome')\n",
    "# with Remote(sbr_connection, options=options) as driver:\n",
    "#     driver.get(url)\n",
    "#     print(driver.page_source)"
   ]
  },
  {
   "cell_type": "code",
   "execution_count": null,
   "id": "4f155d5a-46d4-4674-ae91-8ebdd235b2bb",
   "metadata": {},
   "outputs": [],
   "source": [
    "from selenium.webdriver import Remote, ChromeOptions\n",
    "\n",
    "options = ChromeOptions()\n",
    "\n",
    "sbr_connection = helpers.get_sbr_connection()\n",
    "with Remote(sbr_connection, options=options) as driver:\n",
    "    driver.get(url)\n",
    "    print(driver.page_source)"
   ]
  },
  {
   "cell_type": "code",
   "execution_count": null,
   "id": "e2c6a585-07bb-4f34-8d4f-4d271f32e805",
   "metadata": {},
   "outputs": [],
   "source": []
  }
 ],
 "metadata": {
  "kernelspec": {
   "display_name": "Python 3 (ipykernel)",
   "language": "python",
   "name": "python3"
  },
  "language_info": {
   "codemirror_mode": {
    "name": "ipython",
    "version": 3
   },
   "file_extension": ".py",
   "mimetype": "text/x-python",
   "name": "python",
   "nbconvert_exporter": "python",
   "pygments_lexer": "ipython3",
   "version": "3.12.2"
  }
 },
 "nbformat": 4,
 "nbformat_minor": 5
}
